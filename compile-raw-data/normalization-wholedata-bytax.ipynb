{
 "cells": [
  {
   "cell_type": "markdown",
   "metadata": {},
   "source": [
    "## Normalize entire dataset\n",
    "Add annotations and extract basic statistics on taxonomic and protein assignment. Use EdgeR to perform Trimmed Mean Normalization to account for differences in sample size."
   ]
  },
  {
   "cell_type": "code",
   "execution_count": 1,
   "metadata": {},
   "outputs": [],
   "source": [
    "load(\"raw_count_data_07262018.RData\", verbose = T) #Save RData object in DOI linked Zenodo"
   ]
  },
  {
   "cell_type": "code",
   "execution_count": null,
   "metadata": {},
   "outputs": [],
   "source": [
    "library(edgeR)"
   ]
  },
  {
   "cell_type": "code",
   "execution_count": null,
   "metadata": {},
   "outputs": [],
   "source": [
    "# Re order wide\n",
    "names(wide_count_data)\n",
    "wide_ordered<-wide_count_data[c(1:8,21:26,34:45,27:33,11:12,17:18,13:14,19:20,10,16,9,15)]\n",
    "y<-dim(wide_ordered)[2]\n",
    "\n",
    "# Treat ALOHA july and march as replicates:\n",
    "dge_obj<-DGEList(counts = wide_ordered[3:y], genes= wide_ordered[1:2], group=c(rep(\"Catalina_surface\",6),rep(\"PortofLA_surface\",6), rep(\"SPOT_surface\", 12),rep(\"SPOT_150m\",3), rep(\"SPOT_890m\",4), rep(\"ALOHA_surface\", 4),rep(\"ALOHA_DCM\", 4),rep(\"ALOHA_150m\",2), rep(\"ALOHA_1000m\",2) ))\n",
    "dge_obj$samples\n",
    "data<-calcNormFactors(dge_obj, method=\"TMM\") # TMM normalization\n",
    "data$samples # Normalized library values\n",
    "cpm_data<-cpm(data, normalized.lib.sizes=TRUE, log=FALSE) #obtain only CPM (not logged)\n",
    "cpm_data<-as.data.frame(cpm_data)\n",
    "data_CPM<-data.frame(data$genes,cpm_data)\n",
    "\n",
    "# Reformat data:\n",
    "melt_CPM<-melt(data_CPM)\n",
    "head(melt_CPM)\n",
    "unique(melt_CPM$variable)\n",
    "str(melt_CPM)\n",
    "unique(melt_CPM$variable)\n",
    "# Make sure all non-numerics are factors\n",
    "tmp<-colsplit(melt_CPM$variable, \"_\", c(\"Location\", \"Depth\", \"Replicate\"))\n",
    "df_melt_CPM<-cbind(melt_CPM[1:3],tmp,melt_CPM[4])\n",
    "str(df_melt_CPM)\n",
    "#\n",
    "# save(data, data_CPM, df_melt_CPM, file=\"Normalized_data_08022018.RData\")"
   ]
  },
  {
   "cell_type": "code",
   "execution_count": null,
   "metadata": {},
   "outputs": [],
   "source": [
    "# Load from here - RData available at linked Zenodo DOI\n",
    "load(\"Normalized_data_08022018.RData\",verbose=T)"
   ]
  },
  {
   "cell_type": "code",
   "execution_count": null,
   "metadata": {},
   "outputs": [],
   "source": [
    "# Calculate averages across replicates\n",
    "# First, fix up labels\n",
    "head(df_melt_CPM)\n",
    "df_melt_CPM$Location<-(as.character(gsub(\"July\",\"ALOHA\",df_melt_CPM$Location)))\n",
    "df_melt_CPM$Location<-(as.character(gsub(\"March\",\"ALOHA\",df_melt_CPM$Location)))\n",
    "df_melt_CPM$Depth<-(as.character(gsub(\"5m\",\"surface\",df_melt_CPM$Depth)))\n",
    "str(df_melt_CPM)\n",
    "tmp<-df_melt_CPM\n",
    "tmp$variable<-NULL; tmp$Replicate<-NULL  #remove columns that distinguish replicates\n",
    "#\n",
    "avg_CPM<-tmp %>%\n",
    "  group_by(Location, Depth, Taxonomy, KO) %>%\n",
    "  summarise(mean_CPM=mean(value)) %>%\n",
    "  as.data.frame\n",
    "# class(avg_CPM)\n",
    "# head(avg_CPM)\n",
    "# str(avg_CPM)\n",
    "\n",
    "## Add annotations for all downstream analysis:\n",
    "# Explore taxonomic composition\n",
    "tax<-colsplit(avg_CPM$Taxonomy, \";\", c(\"Supergroup\", \"Phylum\", \"Class\", \"Order\", \"Family\", \"Genus\", \"Species\"))\n",
    "df_wtax<-cbind(avg_CPM, tax)\n",
    "df_wtax$Species<-as.character(gsub(\";\",\"\",df_wtax$Species))\n",
    "head(df_wtax)\n",
    "\n",
    "# Add KEGG pathway information - 2 flavors\n",
    "load(\"KeggID_moduleInfo.Data\", verbose=T)\n",
    "# head(data_CPM)\n",
    "head(avg_CPM)\n",
    "head(K0_all)\n",
    "colnames(K0_all)[1]<-\"KO\"\n",
    "### KOs expanded if a KO appears in more than one module\n",
    "library(plyr)\n",
    "df_wKO_wdups<-join(avg_CPM, K0_all, by=\"KO\",type=\"left\", match=\"all\")\n",
    "#\n",
    "save(avg_CPM, df_wtax, df_wKO_wdups, file=\"Normed_avg_annotated_08022018.RData\")"
   ]
  },
  {
   "cell_type": "code",
   "execution_count": null,
   "metadata": {},
   "outputs": [],
   "source": []
  },
  {
   "cell_type": "code",
   "execution_count": null,
   "metadata": {},
   "outputs": [],
   "source": [
    "# Re-norm data for each taxonomic group\n",
    "# Obtain dataframe of counts averaged over replicates and for each taxonomic group\n",
    "load(\"raw_count_data_07262018.RData\",verbose=T)\n",
    "library(edgeR)\n",
    "library(reshape2)\n",
    "library(dplyr)"
   ]
  },
  {
   "cell_type": "code",
   "execution_count": null,
   "metadata": {},
   "outputs": [],
   "source": [
    "# Generate separate dataframe:\n",
    "tax<-c(\"Dinoflagellate\",\"Ciliate\",\"Haptophyta\",\"Bacillariophyceae\",\"Chlorophyta\", \"Pelagophyceae\", \"MAST\", \"Rhizaria\")\n",
    "# Treat ALOHA july and march as replicates:\n",
    "names(wide_count_data)\n",
    "wide_ordered<-wide_count_data[c(1:8,21:26,34:45,27:33,11:12,17:18,13:14,19:20,10,16,9,15)]\n",
    "y<-dim(wide_ordered)[2]\n",
    "#\n",
    "for(i in tax){\n",
    "  tmp_counts<-subset(wide_ordered, grepl(i, wide_ordered$Taxonomy))\n",
    "  y<-dim(tmp_counts)[2]\n",
    "  #Use tmp_counts below to perform edgeR normalization for each taxonomic group\n",
    "  dge_obj<-DGEList(counts = tmp_counts[3:y], genes= tmp_counts[1:2], group=c(rep(\"Catalina_surface\",6),rep(\"PortofLA_surface\",6), rep(\"SPOT_surface\", 12),rep(\"SPOT_150m\",3), rep(\"SPOT_890m\",4), rep(\"ALOHA_surface\", 4),rep(\"ALOHA_DCM\", 4),rep(\"ALOHA_150m\",2), rep(\"ALOHA_1000m\",2) ))\n",
    "  dge_obj$samples\n",
    "  data<-calcNormFactors(dge_obj, method=\"TMM\") # TMM normalization\n",
    "  data$samples # Normalized library values\n",
    "  cpm_data<-cpm(data, normalized.lib.sizes=TRUE, log=FALSE) #obtain only CPM (not logged)\n",
    "  cpm_data<-as.data.frame(cpm_data)\n",
    "  data_CPM<-data.frame(data$genes,cpm_data)\n",
    "  melt_CPM<-melt(data_CPM)\n",
    "  tmp2<-colsplit(melt_CPM$variable, \"_\", c(\"Location\", \"Depth\", \"Replicate\"))\n",
    "  cpm_tmp<-cbind(melt_CPM, tmp2)\n",
    "  cpm_tmp$Location<-(as.character(gsub(\"July\",\"ALOHA\",cpm_tmp$Location)))\n",
    "  cpm_tmp$Location<-(as.character(gsub(\"March\",\"ALOHA\",cpm_tmp$Location)))\n",
    "  cpm_tmp$Depth<-(as.character(gsub(\"5m\",\"surface\",cpm_tmp$Depth)))\n",
    "  # Calc averages\n",
    "  long_avg<-cpm_tmp %>%\n",
    "    group_by(Location, Depth, Taxonomy, KO) %>%\n",
    "    summarise(mean_count=mean(value)) %>%\n",
    "    as.data.frame\n",
    "  head(long_avg)\n",
    "  long_avg$sample<-paste(long_avg$Location, long_avg$Depth, sep=\"_\")\n",
    "  long_avg$taxa<-i\n",
    "  name <- paste(\"dfnorm\", i, sep = \"_\")\n",
    "  assign(name, long_avg)\n",
    "  print(\"done with\");print(i)\n",
    "} "
   ]
  },
  {
   "cell_type": "code",
   "execution_count": null,
   "metadata": {},
   "outputs": [],
   "source": [
    "# Check all\n",
    "# head(dfnorm_Dinoflagellate)\n",
    "# head(dfnorm_Ciliate)\n",
    "# head(dfnorm_Haptophyta)\n",
    "# head(dfnorm_Bacillariophyceae)\n",
    "# head(dfnorm_Chlorophyta)\n",
    "# head(dfnorm_Pelagophyceae)\n",
    "# head(dfnorm_MAST)\n",
    "# head(dfnorm_Rhizaria)"
   ]
  },
  {
   "cell_type": "code",
   "execution_count": null,
   "metadata": {},
   "outputs": [],
   "source": [
    "# Save:\n",
    "comboTax<-rbind(dfnorm_Dinoflagellate, dfnorm_Ciliate, dfnorm_Haptophyta, dfnorm_Bacillariophyceae, dfnorm_Chlorophyta, dfnorm_Pelagophyceae, dfnorm_MAST, dfnorm_Rhizaria)\n",
    "#\n",
    "save(dfnorm_Dinoflagellate, dfnorm_Ciliate, dfnorm_Haptophyta, dfnorm_Bacillariophyceae, dfnorm_Chlorophyta, dfnorm_Pelagophyceae, dfnorm_MAST, dfnorm_Rhizaria, comboTax, file=\"ReNorm_bytax_08022018.RData\")"
   ]
  }
 ],
 "metadata": {
  "kernelspec": {
   "display_name": "R",
   "language": "R",
   "name": "ir"
  },
  "language_info": {
   "codemirror_mode": "r",
   "file_extension": ".r",
   "mimetype": "text/x-r-source",
   "name": "R",
   "pygments_lexer": "r",
   "version": "3.6.1"
  }
 },
 "nbformat": 4,
 "nbformat_minor": 4
}
